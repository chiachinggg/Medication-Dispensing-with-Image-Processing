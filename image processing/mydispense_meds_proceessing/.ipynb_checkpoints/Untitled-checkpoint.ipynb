{
 "cells": [
  {
   "cell_type": "code",
   "execution_count": null,
   "id": "4a1972f1",
   "metadata": {},
   "outputs": [],
   "source": [
    "from skimage import io, transform\n",
    "import os\n",
    "\n",
    "def resize_images(input_folder, output_folder, max_width, max_height):\n",
    "    # Create output directory if it doesn't exist\n",
    "    if not os.path.exists(output_folder):\n",
    "        os.makedirs(output_folder)\n",
    "\n",
    "    # Loop through all files in the input directory\n",
    "    for filename in os.listdir(input_folder):\n",
    "        # Check if the file is an image\n",
    "        if filename.endswith(('.png', '.jpg', '.jpeg')):\n",
    "            # Read the image\n",
    "            image = io.imread(os.path.join(input_folder, filename))\n",
    "\n",
    "            # Calculate the scaling factor to fit within the specified range\n",
    "            scale_factor = min(max_width / image.shape[1], max_height / image.shape[0])\n",
    "\n",
    "            # Resize the image\n",
    "            resized_image = transform.resize(image, (int(image.shape[0] * scale_factor), int(image.shape[1] * scale_factor)))\n",
    "\n",
    "            # Save the resized image\n",
    "            io.imsave(os.path.join(output_folder, filename), resized_image)\n",
    "\n",
    "# Example usage:\n",
    "input_folder = 'input_images/'\n",
    "output_folder = 'resized_images/'\n",
    "max_width = 800  # Specify your maximum width\n",
    "max_height = 600  # Specify your maximum height\n",
    "\n",
    "resize_images(input_folder, output_folder, max_width, max_height)"
   ]
  }
 ],
 "metadata": {
  "kernelspec": {
   "display_name": "Python 3 (ipykernel)",
   "language": "python",
   "name": "python3"
  },
  "language_info": {
   "codemirror_mode": {
    "name": "ipython",
    "version": 3
   },
   "file_extension": ".py",
   "mimetype": "text/x-python",
   "name": "python",
   "nbconvert_exporter": "python",
   "pygments_lexer": "ipython3",
   "version": "3.11.3"
  }
 },
 "nbformat": 4,
 "nbformat_minor": 5
}
