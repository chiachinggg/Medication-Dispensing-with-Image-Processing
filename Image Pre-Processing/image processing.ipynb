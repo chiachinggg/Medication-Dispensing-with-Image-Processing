{
 "cells": [
  {
   "cell_type": "code",
   "execution_count": 16,
   "id": "4a1972f1",
   "metadata": {},
   "outputs": [],
   "source": [
    "import os\n",
    "from skimage import io, filters, transform\n",
    "\n",
    "def threshold_images(input_folder, output_folder, max_width, max_height, threshold_value):\n",
    "\n",
    "    # Create output folder if it doesn't exist\n",
    "    if not os.path.exists(output_folder):\n",
    "        os.makedirs(output_folder)\n",
    "\n",
    "    # Loop through each file in the input folder\n",
    "    for filename in os.listdir(input_folder):\n",
    "        if filename.endswith('.png'):\n",
    "            # Read the image\n",
    "            img_path = os.path.join(input_folder, filename)\n",
    "            image = io.imread(img_path, as_gray=True)\n",
    "\n",
    "            # Resize the image\n",
    "            # Calculate the scaling factor to fit within the specified range\n",
    "            scale_factor = min(max_width / image.shape[1], max_height / image.shape[0])\n",
    "            resized_image = transform.resize(image, (int(image.shape[0] * scale_factor), int(image.shape[1] * scale_factor)))\n",
    "\n",
    "            # Sharpening (using unsharp masking)\n",
    "            sharpened_image = filters.unsharp_mask(resized_image, radius=3, amount=3)\n",
    "            \n",
    "            # Apply thresholding\n",
    "            thresholded_image = sharpened_image > threshold_value\n",
    "\n",
    "            # Sharpening (using unsharp masking)\n",
    "            sharpened_image = filters.unsharp_mask(thresholded_image, radius=1, amount=1)\n",
    "            \n",
    "            # Save thresholded image to output folder\n",
    "            output_path = os.path.join(output_folder, filename)\n",
    "            io.imsave(output_path, sharpened_image.astype('uint8') * 255)  # Convert boolean array to uint8\n",
    "\n",
    "\n",
    "#input test\n",
    "input_folder = 'C:/Users/jieru/Downloads/FIT3164/project/Medication-Dispensing-with-Image-Processing/image processing/test'\n",
    "output_folder = \"C:/Users/jieru/Downloads/FIT3164/project/Medication-Dispensing-with-Image-Processing/image processing/enhanced_images\"\n",
    "\n",
    "#actual folder\n",
    "# input_folder = 'C:/Users/jieru/Downloads/FIT3164/project/Medication-Dispensing-with-Image-Processing/image processing/mydispense_meds_proceessing'\n",
    "# output_folder = 'C:/Users/jieru/Downloads/FIT3164/project/Medication-Dispensing-with-Image-Processing/image processing/resized_images'\n",
    "max_width = 600  # Specify your maximum width\n",
    "max_height = 600  # Specify your maximum height\n",
    "threshold_value=0.76 #0.76\n",
    "\n",
    "# Apply try_all_threshold to PNG images in the input folder\n",
    "threshold_images(input_folder, output_folder, max_width, max_height, threshold_value)"
   ]
  }
 ],
 "metadata": {
  "kernelspec": {
   "display_name": "Python 3 (ipykernel)",
   "language": "python",
   "name": "python3"
  },
  "language_info": {
   "codemirror_mode": {
    "name": "ipython",
    "version": 3
   },
   "file_extension": ".py",
   "mimetype": "text/x-python",
   "name": "python",
   "nbconvert_exporter": "python",
   "pygments_lexer": "ipython3",
   "version": "3.10.5"
  }
 },
 "nbformat": 4,
 "nbformat_minor": 5
}
