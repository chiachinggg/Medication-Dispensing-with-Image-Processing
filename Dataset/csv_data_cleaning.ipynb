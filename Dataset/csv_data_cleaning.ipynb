{
 "cells": [
  {
   "cell_type": "code",
   "execution_count": 1,
   "id": "db871e81",
   "metadata": {},
   "outputs": [],
   "source": [
    "import pandas as pd\n",
    "\n",
    "# Read the CSV file into a DataFrame\n",
    "df = pd.read_csv('med_data2.0.csv')\n",
    "\n",
    "# Replace \"/\" with \"$\" in a specific column (e.g., 'column_name')\n",
    "df['api'] = df['api'].str.replace('/', '$')\n",
    "\n",
    "# Save the modified DataFrame back to a CSV file\n",
    "df.to_csv('modified_med_data2.0.csv', index=False)"
   ]
  },
  {
   "cell_type": "code",
   "execution_count": 3,
   "id": "4a43dbbe",
   "metadata": {},
   "outputs": [],
   "source": [
    "import csv\n",
    "\n",
    "# Open the input CSV file\n",
    "with open('modified_med_data2.0.csv', 'r', newline='') as file:\n",
    "\n",
    "    # Create CSV reader and writer objects\n",
    "    reader = csv.reader(file)\n",
    "    rows = list(reader)  # Read all rows into a list\n",
    "\n",
    "    # Convert all words to lowercase in each row\n",
    "    rows_lower = [[element.lower() for element in row] for row in rows]\n",
    "\n",
    "# Write the modified rows back to the same input file\n",
    "with open('modified_med_data2.0.csv', 'w', newline='') as file:\n",
    "    writer = csv.writer(file)\n",
    "    writer.writerows(rows_lower)"
   ]
  },
  {
   "cell_type": "code",
   "execution_count": 2,
   "id": "366407ce",
   "metadata": {},
   "outputs": [],
   "source": [
    "import pandas as pd\n",
    "\n",
    "# Read the CSV file into a DataFrame\n",
    "df = pd.read_csv('modified_med_data3.0.csv')\n",
    "\n",
    "# Replace \"/\" with \"$\" in a specific column (e.g., 'column_name')\n",
    "df['dosage'] = df['dosage'].str.replace('?', 'mc', regex=False)\n",
    "\n",
    "# Save the modified DataFrame back to a CSV file\n",
    "df.to_csv('modified_med_data3.0.csv', index=False)"
   ]
  },
  {
   "cell_type": "code",
   "execution_count": 3,
   "id": "626ceb04",
   "metadata": {},
   "outputs": [],
   "source": [
    "import pandas as pd\n",
    "\n",
    "# Read the CSV file into a DataFrame\n",
    "df = pd.read_csv('modified_med_data3.0.csv')\n",
    "\n",
    "# Replace all spaces in a specific column (e.g., 'column_name')\n",
    "df['dosage'] = df['dosage'].str.replace(' ', '')\n",
    "\n",
    "# Save the modified DataFrame back to a CSV file\n",
    "df.to_csv('modified_med_data3.0.csv', index=False)"
   ]
  },
  {
   "cell_type": "code",
   "execution_count": null,
   "id": "b4d26c00",
   "metadata": {},
   "outputs": [],
   "source": [
    "# not run yet\n",
    "import csv\n",
    "\n",
    "def remove_rows(csv_file, rows_to_remove):\n",
    "    with open(csv_file, 'r', newline='') as file:\n",
    "        reader = csv.reader(file)\n",
    "        data = list(reader)\n",
    "\n",
    "    # Remove rows from the data list\n",
    "    for index in sorted(rows_to_remove, reverse=True):\n",
    "        if index < len(data):\n",
    "            del data[index]\n",
    "\n",
    "    with open(csv_file, 'w', newline='') as file:\n",
    "        writer = csv.writer(file)\n",
    "        writer.writerows(data)\n",
    "\n",
    "# Example usage:\n",
    "csv_file = 'modified_med_data3.0.csv'\n",
    "rows_to_remove = [2, 5, 7]  # List of row indices to remove (0-based)\n",
    "remove_rows(csv_file, rows_to_remove)"
   ]
  }
 ],
 "metadata": {
  "kernelspec": {
   "display_name": "Python 3 (ipykernel)",
   "language": "python",
   "name": "python3"
  },
  "language_info": {
   "codemirror_mode": {
    "name": "ipython",
    "version": 3
   },
   "file_extension": ".py",
   "mimetype": "text/x-python",
   "name": "python",
   "nbconvert_exporter": "python",
   "pygments_lexer": "ipython3",
   "version": "3.11.3"
  }
 },
 "nbformat": 4,
 "nbformat_minor": 5
}
