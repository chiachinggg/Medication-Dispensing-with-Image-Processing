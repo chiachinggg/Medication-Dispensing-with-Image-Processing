{
 "cells": [
  {
   "cell_type": "code",
   "execution_count": 1,
   "id": "db871e81",
   "metadata": {},
   "outputs": [],
   "source": [
    "import pandas as pd\n",
    "\n",
    "# Read the CSV file into a DataFrame\n",
    "df = pd.read_csv('med_data2.0.csv')\n",
    "\n",
    "# Replace \"/\" with \"$\" in a specific column (e.g., 'column_name')\n",
    "df['api'] = df['api'].str.replace('/', '$')\n",
    "\n",
    "# Save the modified DataFrame back to a CSV file\n",
    "df.to_csv('modified_med_data2.0.csv', index=False)"
   ]
  },
  {
   "cell_type": "code",
   "execution_count": 3,
   "id": "4a43dbbe",
   "metadata": {},
   "outputs": [],
   "source": [
    "import csv\n",
    "\n",
    "# Open the input CSV file\n",
    "with open('modified_med_data2.0.csv', 'r', newline='') as file:\n",
    "\n",
    "    # Create CSV reader and writer objects\n",
    "    reader = csv.reader(file)\n",
    "    rows = list(reader)  # Read all rows into a list\n",
    "\n",
    "    # Convert all words to lowercase in each row\n",
    "    rows_lower = [[element.lower() for element in row] for row in rows]\n",
    "\n",
    "# Write the modified rows back to the same input file\n",
    "with open('modified_med_data2.0.csv', 'w', newline='') as file:\n",
    "    writer = csv.writer(file)\n",
    "    writer.writerows(rows_lower)"
   ]
  },
  {
   "cell_type": "code",
   "execution_count": 2,
   "id": "366407ce",
   "metadata": {},
   "outputs": [],
   "source": [
    "import pandas as pd\n",
    "\n",
    "# Read the CSV file into a DataFrame\n",
    "df = pd.read_csv('modified_med_data3.0.csv')\n",
    "\n",
    "# Replace \"/\" with \"$\" in a specific column (e.g., 'column_name')\n",
    "df['dosage'] = df['dosage'].str.replace('?', 'mc', regex=False)\n",
    "\n",
    "# Save the modified DataFrame back to a CSV file\n",
    "df.to_csv('modified_med_data3.0.csv', index=False)"
   ]
  },
  {
   "cell_type": "code",
   "execution_count": 3,
   "id": "626ceb04",
   "metadata": {},
   "outputs": [],
   "source": [
    "import pandas as pd\n",
    "\n",
    "# Read the CSV file into a DataFrame\n",
    "df = pd.read_csv('modified_med_data3.0.csv')\n",
    "\n",
    "# Replace all spaces in a specific column (e.g., 'column_name')\n",
    "df['dosage'] = df['dosage'].str.replace(' ', '')\n",
    "\n",
    "# Save the modified DataFrame back to a CSV file\n",
    "df.to_csv('modified_med_data3.0.csv', index=False)"
   ]
  },
  {
   "cell_type": "code",
   "execution_count": null,
   "id": "b4d26c00",
   "metadata": {},
   "outputs": [],
   "source": [
    "# not run yet\n",
    "import csv\n",
    "\n",
    "def remove_rows(csv_file, rows_to_remove):\n",
    "    with open(csv_file, 'r', newline='') as file:\n",
    "        reader = csv.reader(file)\n",
    "        data = list(reader)\n",
    "\n",
    "    # Remove rows from the data list\n",
    "    for index in sorted(rows_to_remove, reverse=True):\n",
    "        if index < len(data):\n",
    "            del data[index]\n",
    "\n",
    "    with open(csv_file, 'w', newline='') as file:\n",
    "        writer = csv.writer(file)\n",
    "        writer.writerows(data)\n",
    "\n",
    "# Example usage:\n",
    "csv_file = 'modified_med_data3.0.csv'\n",
    "rows_to_remove = [2, 5, 7]  # List of row indices to remove (0-based)\n",
    "remove_rows(csv_file, rows_to_remove)"
   ]
  },
  {
   "cell_type": "code",
   "execution_count": 2,
   "id": "bcb37fa5",
   "metadata": {},
   "outputs": [],
   "source": [
    "import os\n",
    "\n",
    "# Define the folder path\n",
    "folder_path = \"C:/Users/jieru/Downloads/FIT3164/project/Medication-Dispensing-with-Image-Processing/Dataset\"  # Replace with the path to your folder\n",
    "\n",
    "# Define the list of filenames you want to delete\n",
    "filenames_to_delete = [\"54.png\",\"55.png\",\"1293.png\",\"1294.png\",\"1295.png\",\"1296.png\",\"1297.png\",\"1298.png\",\n",
    "                       \"1.png\",\"8.png\",\"9.png\",\"25.png\",\"29.png\",\"30.png\",\"31.png\",\"44.png\",\"275.png\",\"315.png\",\n",
    "                       \"316.png\",\"548.png\",\"1179.png\",\"1180.png\",\"198.png\",\"261.png\",\"264.png\",\"271.png\"]\n",
    "\n",
    "# Iterate through the list of filenames\n",
    "for filename in filenames_to_delete:\n",
    "    # Create the full path to the file\n",
    "    file_path = os.path.join(folder_path, filename)\n",
    "    # Check if the file exists\n",
    "    if os.path.exists(file_path):\n",
    "        # Remove the file\n",
    "        os.remove(file_path)\n",
    "    else:\n",
    "        print(f\"File not found: {filename}\")"
   ]
  },
  {
   "cell_type": "code",
   "execution_count": 9,
   "id": "89566c76",
   "metadata": {},
   "outputs": [
    {
     "name": "stdout",
     "output_type": "stream",
     "text": [
      "Number of images that do not meet the minimum DPI of 200: 1269 out of 1327\n"
     ]
    }
   ],
   "source": [
    "# bruh, dpi/resolution limit\n",
    "from PIL import Image\n",
    "import os\n",
    "\n",
    "# minimum resolution here\n",
    "min_dpi = 200\n",
    "\n",
    "input = \"D:\\\\2024\\FYP\\codebase\\Medication-Dispensing-with-Image-Processing\\Medication-Dispensing-with-Image-Processing\\Dataset\"\n",
    "output = \"D:\\\\2024\\FYP\\codebase\\Medication-Dispensing-with-Image-Processing\\Medication-Dispensing-with-Image-Processing\\Dataset2\"\n",
    "\n",
    "# create the output directory if it doesn't exist\n",
    "os.makedirs(output, exist_ok=True)\n",
    "\n",
    "def fuckkk(input, output, min_dpi):\n",
    "    count = 0\n",
    "    count2 = 0\n",
    "    for filename in os.listdir(input):\n",
    "        if filename.endswith((\".jpg\", \".jpeg\", \".png\")):\n",
    "            count2+=1\n",
    "            image_path = os.path.join(input, filename)\n",
    "            \n",
    "            with Image.open(image_path) as img:\n",
    "                dpi = img.info.get('dpi', (72, 72))\n",
    "                \n",
    "                # check both horizontal and vertical DPI\n",
    "                if dpi[0] >= min_dpi and dpi[1] >= min_dpi:\n",
    "                    # save if meets the dpi req\n",
    "                    output_path = os.path.join(output, filename)\n",
    "                    img.save(output_path)\n",
    "                    \n",
    "                # testing, maybe i should make it for the ones i plan to pop\n",
    "                else:\n",
    "                    # print(f\"Popped {filename} with DPI {dpi}\")\n",
    "                    count+=1\n",
    "    print(f\"Number of images that do not meet the minimum DPI of {min_dpi}:\", count, \"out of\", count2)\n",
    "\n",
    "\n",
    "# Call the function to filter images\n",
    "fuckkk(input, output, min_dpi)\n"
   ]
  }
 ],
 "metadata": {
  "kernelspec": {
   "display_name": "Python 3 (ipykernel)",
   "language": "python",
   "name": "python3"
  },
  "language_info": {
   "codemirror_mode": {
    "name": "ipython",
    "version": 3
   },
   "file_extension": ".py",
   "mimetype": "text/x-python",
   "name": "python",
   "nbconvert_exporter": "python",
   "pygments_lexer": "ipython3",
   "version": "3.9.13"
  }
 },
 "nbformat": 4,
 "nbformat_minor": 5
}
